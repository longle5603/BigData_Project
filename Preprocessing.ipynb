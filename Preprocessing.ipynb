{
  "cells": [
    {
      "cell_type": "markdown",
      "metadata": {
        "id": "khQiaiZt0Neo"
      },
      "source": [
        "# 1. About the dataset:"
      ]
    },
    {
      "cell_type": "markdown",
      "metadata": {
        "id": "uLbwbUd70Tmx"
      },
      "source": [
        "Buying a house is a complex decision influenced by factors like location property size, proximity to amenities (offices, schools, hospitals), and most importantly, the price. In Bengaluru, housing prices are affected by factors such as the impact of demonetization, the Real Estate (Regulation and Development) Act (RERA), and mistrust in property developers. Studies show a wide range of options across price segments from ₹15-62 lakh INR, although property prices in Bengaluru dropped by approximately 5% in the second half of 2017. With its vibrant culture, favorable climate, and abundant job opportunities, determining property prices in Bengaluru remains challenging."
      ]
    },
    {
      "cell_type": "markdown",
      "metadata": {
        "id": "HEViT9rUAcs4"
      },
      "source": [
        "* Area_type - Description of the area\n",
        "* Availability - When it can be possessed or when it is ready\n",
        "* Location - Where it is located in Bengaluru\n",
        "* Size - BHK or Bedrooms\n",
        "* Society - To which society it belongs\n",
        "* Total_sqft - Size of the property in sq.ft\n",
        "* Bath - No. of Bathrooms\n",
        "* Balcony - No. of the Balcony\n",
        "* Price - Value of the property in lakhs (Indian Rupee - ₹)\n",
        "\n",
        "\n",
        "\n"
      ]
    },
    {
      "cell_type": "markdown",
      "metadata": {
        "id": "mya8EC2e0fZg"
      },
      "source": [
        "# 2. Data Exploration and Preprocessing & Feature Engineering"
      ]
    },
    {
      "cell_type": "code",
      "execution_count": null,
      "metadata": {
        "id": "vUOYzUjAB5n5"
      },
      "outputs": [],
      "source": [
        "from pyspark.sql import SparkSession\n",
        "from pyspark.sql.types import IntegerType, BooleanType, FloatType\n",
        "from pyspark.sql.functions import expr, mean, col, stddev, count, sum, udf\n",
        "import matplotlib.pyplot as plt\n",
        "import pyspark.sql.functions as F\n",
        "from pyspark.sql.window import Window\n",
        "from pyspark.ml.feature import StringIndexer, OneHotEncoder"
      ]
    },
    {
      "cell_type": "markdown",
      "metadata": {
        "id": "W0JkyLIcquEY"
      },
      "source": [
        "Initializes a Spark session, loads the housing dataset, displays sample rows, and prints dataset dimensions."
      ]
    },
    {
      "cell_type": "code",
      "execution_count": null,
      "metadata": {
        "colab": {
          "base_uri": "https://localhost:8080/"
        },
        "id": "1Ao6gM6J0ec-",
        "outputId": "761431d3-a572-46e5-bb0b-2b9117029818"
      },
      "outputs": [
        {
          "name": "stdout",
          "output_type": "stream",
          "text": [
            "+--------------------+-------------+--------------------+---------+-------+----------+----+-------+-----+\n",
            "|           area_type| availability|            location|     size|society|total_sqft|bath|balcony|price|\n",
            "+--------------------+-------------+--------------------+---------+-------+----------+----+-------+-----+\n",
            "|Super built-up  Area|       19-Dec|Electronic City P...|    2 BHK|Coomee |      1056|   2|      1|39.07|\n",
            "|          Plot  Area|Ready To Move|    Chikka Tirupathi|4 Bedroom|Theanmp|      2600|   5|      3|120.0|\n",
            "|      Built-up  Area|Ready To Move|         Uttarahalli|    3 BHK|   NULL|      1440|   2|      3| 62.0|\n",
            "|Super built-up  Area|Ready To Move|  Lingadheeranahalli|    3 BHK|Soiewre|      1521|   3|      1| 95.0|\n",
            "|Super built-up  Area|Ready To Move|            Kothanur|    2 BHK|   NULL|      1200|   2|      1| 51.0|\n",
            "+--------------------+-------------+--------------------+---------+-------+----------+----+-------+-----+\n",
            "only showing top 5 rows\n",
            "\n",
            "Rows: 13320, Columns: 9\n"
          ]
        }
      ],
      "source": [
        "spark = SparkSession.builder.appName(\"HousePricePrediction\").getOrCreate()\n",
        "\n",
        "df = spark.read.csv(\"Bengaluru_House_Data.csv\", header=True, inferSchema=True)\n",
        "df.show(5)\n",
        "print(f\"Rows: {df.count()}, Columns: {len(df.columns)}\")"
      ]
    },
    {
      "cell_type": "markdown",
      "metadata": {
        "id": "P5ZoY0Q9sOYD"
      },
      "source": [
        "Displays the schema of the dataset, provides summary statistics for numerical columns."
      ]
    },
    {
      "cell_type": "code",
      "execution_count": null,
      "metadata": {
        "colab": {
          "base_uri": "https://localhost:8080/"
        },
        "id": "e7RYJk3-u6rj",
        "outputId": "084fa238-188b-43b3-dbd7-e3ab4fffe701"
      },
      "outputs": [
        {
          "name": "stdout",
          "output_type": "stream",
          "text": [
            "root\n",
            " |-- area_type: string (nullable = true)\n",
            " |-- availability: string (nullable = true)\n",
            " |-- location: string (nullable = true)\n",
            " |-- size: string (nullable = true)\n",
            " |-- society: string (nullable = true)\n",
            " |-- total_sqft: string (nullable = true)\n",
            " |-- bath: integer (nullable = true)\n",
            " |-- balcony: integer (nullable = true)\n",
            " |-- price: double (nullable = true)\n",
            "\n",
            "+-------+--------------------+-------------+----------+---------+-------+------------------+------------------+------------------+------------------+\n",
            "|summary|           area_type| availability|  location|     size|society|        total_sqft|              bath|           balcony|             price|\n",
            "+-------+--------------------+-------------+----------+---------+-------+------------------+------------------+------------------+------------------+\n",
            "|  count|               13320|        13320|     13319|    13304|   7818|             13320|             13247|             12711|             13320|\n",
            "|   mean|                NULL|         NULL|      NULL|     NULL|   NULL|1554.9420293735172|2.6926096474673513|1.5843757375501535|112.56562650150138|\n",
            "| stddev|                NULL|         NULL|      NULL|     NULL|   NULL| 1238.458772951733|1.3414580781243843|0.8172634299202008|148.97167376967377|\n",
            "|    min|      Built-up  Area|       14-Jul|    Anekal|    1 BHK|3Codeli|                 1|                 1|                 0|               8.0|\n",
            "|    max|Super built-up  Area|Ready To Move|whitefiled|9 Bedroom|i1rtsCo|               999|                40|                 3|            3600.0|\n",
            "+-------+--------------------+-------------+----------+---------+-------+------------------+------------------+------------------+------------------+\n",
            "\n"
          ]
        }
      ],
      "source": [
        "df.printSchema()\n",
        "df.describe().show()"
      ]
    },
    {
      "cell_type": "markdown",
      "metadata": {
        "id": "3DRw2fyhsRhd"
      },
      "source": [
        "Drop less important features"
      ]
    },
    {
      "cell_type": "code",
      "execution_count": null,
      "metadata": {
        "colab": {
          "base_uri": "https://localhost:8080/"
        },
        "id": "aFNiVe9kvCTU",
        "outputId": "c25f0913-6287-4c7b-dc96-c600e20ef660"
      },
      "outputs": [
        {
          "name": "stdout",
          "output_type": "stream",
          "text": [
            "+--------------------+---------+----------+----+-------+-----+\n",
            "|            location|     size|total_sqft|bath|balcony|price|\n",
            "+--------------------+---------+----------+----+-------+-----+\n",
            "|Electronic City P...|    2 BHK|      1056|   2|      1|39.07|\n",
            "|    Chikka Tirupathi|4 Bedroom|      2600|   5|      3|120.0|\n",
            "|         Uttarahalli|    3 BHK|      1440|   2|      3| 62.0|\n",
            "|  Lingadheeranahalli|    3 BHK|      1521|   3|      1| 95.0|\n",
            "|            Kothanur|    2 BHK|      1200|   2|      1| 51.0|\n",
            "|          Whitefield|    2 BHK|      1170|   2|      1| 38.0|\n",
            "|    Old Airport Road|    4 BHK|      2732|   4|   NULL|204.0|\n",
            "|        Rajaji Nagar|    4 BHK|      3300|   4|   NULL|600.0|\n",
            "|        Marathahalli|    3 BHK|      1310|   3|      1|63.25|\n",
            "|        Gandhi Bazar|6 Bedroom|      1020|   6|   NULL|370.0|\n",
            "|          Whitefield|    3 BHK|      1800|   2|      2| 70.0|\n",
            "|          Whitefield|4 Bedroom|      2785|   5|      3|295.0|\n",
            "|  7th Phase JP Nagar|    2 BHK|      1000|   2|      1| 38.0|\n",
            "|           Gottigere|    2 BHK|      1100|   2|      2| 40.0|\n",
            "|            Sarjapur|3 Bedroom|      2250|   3|      2|148.0|\n",
            "|         Mysore Road|    2 BHK|      1175|   2|      2| 73.5|\n",
            "|       Bisuvanahalli|    3 BHK|      1180|   3|      2| 48.0|\n",
            "|Raja Rajeshwari N...|    3 BHK|      1540|   3|      3| 60.0|\n",
            "|Ramakrishnappa La...|    3 BHK|      2770|   4|      2|290.0|\n",
            "|  Manayata Tech Park|    2 BHK|      1100|   2|      2| 48.0|\n",
            "+--------------------+---------+----------+----+-------+-----+\n",
            "only showing top 20 rows\n",
            "\n",
            "Shape: Rows = 13320, Columns = 6\n"
          ]
        }
      ],
      "source": [
        "df = df.drop(\"area_type\", \"society\", \"availability\")\n",
        "df.show()\n",
        "print(f\"Shape: Rows = {df.count()}, Columns = {len(df.columns)}\")"
      ]
    },
    {
      "cell_type": "markdown",
      "metadata": {
        "id": "EMuP1hIKsliP"
      },
      "source": [
        "Process null values"
      ]
    },
    {
      "cell_type": "code",
      "execution_count": null,
      "metadata": {
        "colab": {
          "base_uri": "https://localhost:8080/"
        },
        "id": "7X2tMbDHvFcj",
        "outputId": "f7f9cdd4-91e7-48e4-9342-6ad7af92451a"
      },
      "outputs": [
        {
          "name": "stdout",
          "output_type": "stream",
          "text": [
            "+--------+----+----------+----+-------+-----+\n",
            "|location|size|total_sqft|bath|balcony|price|\n",
            "+--------+----+----------+----+-------+-----+\n",
            "|       1|  16|         0|  73|    609|    0|\n",
            "+--------+----+----------+----+-------+-----+\n",
            "\n"
          ]
        }
      ],
      "source": [
        "df.select([sum(col(c).isNull().cast(\"int\")).alias(c) for c in df.columns]).show()"
      ]
    },
    {
      "cell_type": "code",
      "execution_count": null,
      "metadata": {
        "colab": {
          "base_uri": "https://localhost:8080/"
        },
        "id": "qY9jpfcwJlxk",
        "outputId": "3072ff35-68c5-42cb-fe60-e2c8c5229628"
      },
      "outputs": [
        {
          "name": "stdout",
          "output_type": "stream",
          "text": [
            "+--------------------+---------+----------+----+-------+-----+\n",
            "|            location|     size|total_sqft|bath|balcony|price|\n",
            "+--------------------+---------+----------+----+-------+-----+\n",
            "|Electronic City P...|    2 BHK|      1056|   2|      1|39.07|\n",
            "|    Chikka Tirupathi|4 Bedroom|      2600|   5|      3|120.0|\n",
            "|         Uttarahalli|    3 BHK|      1440|   2|      3| 62.0|\n",
            "|  Lingadheeranahalli|    3 BHK|      1521|   3|      1| 95.0|\n",
            "|            Kothanur|    2 BHK|      1200|   2|      1| 51.0|\n",
            "+--------------------+---------+----------+----+-------+-----+\n",
            "only showing top 5 rows\n",
            "\n",
            "+--------+----+----------+----+-------+-----+\n",
            "|location|size|total_sqft|bath|balcony|price|\n",
            "+--------+----+----------+----+-------+-----+\n",
            "|       0|   0|         0|   0|      0|    0|\n",
            "+--------+----+----------+----+-------+-----+\n",
            "\n",
            "Shape: Rows = 12710, Columns = 6\n"
          ]
        }
      ],
      "source": [
        "df = df.dropna()\n",
        "df.show(5)\n",
        "df.select([sum(col(c).isNull().cast(\"int\")).alias(c) for c in df.columns]).show()\n",
        "print(f\"Shape: Rows = {df.count()}, Columns = {len(df.columns)}\")"
      ]
    },
    {
      "cell_type": "code",
      "execution_count": null,
      "metadata": {
        "colab": {
          "base_uri": "https://localhost:8080/"
        },
        "id": "suyMC4Sj6zq6",
        "outputId": "0a456afd-742f-4cd4-852c-319be790c3b6"
      },
      "outputs": [
        {
          "name": "stdout",
          "output_type": "stream",
          "text": [
            "+----------+\n",
            "|      size|\n",
            "+----------+\n",
            "|    14 BHK|\n",
            "| 5 Bedroom|\n",
            "|     7 BHK|\n",
            "| 1 Bedroom|\n",
            "| 9 Bedroom|\n",
            "| 3 Bedroom|\n",
            "|    27 BHK|\n",
            "|      1 RK|\n",
            "|10 Bedroom|\n",
            "|    11 BHK|\n",
            "|     4 BHK|\n",
            "| 6 Bedroom|\n",
            "|     2 BHK|\n",
            "| 4 Bedroom|\n",
            "| 2 Bedroom|\n",
            "|     6 BHK|\n",
            "|     8 BHK|\n",
            "|    13 BHK|\n",
            "| 8 Bedroom|\n",
            "|     3 BHK|\n",
            "+----------+\n",
            "only showing top 20 rows\n",
            "\n"
          ]
        }
      ],
      "source": [
        "df.select(\"size\").distinct().show()"
      ]
    },
    {
      "cell_type": "markdown",
      "metadata": {
        "id": "1luY7Nf0tdJy"
      },
      "source": [
        "Add new feature BHK from splitting size column"
      ]
    },
    {
      "cell_type": "code",
      "execution_count": null,
      "metadata": {
        "colab": {
          "base_uri": "https://localhost:8080/"
        },
        "id": "MGk_vi-8vJYD",
        "outputId": "68d33fa2-6d82-4216-c21e-87bd295da336"
      },
      "outputs": [
        {
          "name": "stdout",
          "output_type": "stream",
          "text": [
            "+--------------------+---------+----------+----+-------+-----+---+\n",
            "|            location|     size|total_sqft|bath|balcony|price|BHK|\n",
            "+--------------------+---------+----------+----+-------+-----+---+\n",
            "|Electronic City P...|    2 BHK|      1056|   2|      1|39.07|  2|\n",
            "|    Chikka Tirupathi|4 Bedroom|      2600|   5|      3|120.0|  4|\n",
            "|         Uttarahalli|    3 BHK|      1440|   2|      3| 62.0|  3|\n",
            "|  Lingadheeranahalli|    3 BHK|      1521|   3|      1| 95.0|  3|\n",
            "|            Kothanur|    2 BHK|      1200|   2|      1| 51.0|  2|\n",
            "|          Whitefield|    2 BHK|      1170|   2|      1| 38.0|  2|\n",
            "|        Marathahalli|    3 BHK|      1310|   3|      1|63.25|  3|\n",
            "|          Whitefield|    3 BHK|      1800|   2|      2| 70.0|  3|\n",
            "|          Whitefield|4 Bedroom|      2785|   5|      3|295.0|  4|\n",
            "|  7th Phase JP Nagar|    2 BHK|      1000|   2|      1| 38.0|  2|\n",
            "|           Gottigere|    2 BHK|      1100|   2|      2| 40.0|  2|\n",
            "|            Sarjapur|3 Bedroom|      2250|   3|      2|148.0|  3|\n",
            "|         Mysore Road|    2 BHK|      1175|   2|      2| 73.5|  2|\n",
            "|       Bisuvanahalli|    3 BHK|      1180|   3|      2| 48.0|  3|\n",
            "|Raja Rajeshwari N...|    3 BHK|      1540|   3|      3| 60.0|  3|\n",
            "|Ramakrishnappa La...|    3 BHK|      2770|   4|      2|290.0|  3|\n",
            "|  Manayata Tech Park|    2 BHK|      1100|   2|      2| 48.0|  2|\n",
            "|             Kengeri|    1 BHK|       600|   1|      1| 15.0|  1|\n",
            "|          Binny Pete|    3 BHK|      1755|   3|      1|122.0|  3|\n",
            "|         Thanisandra|4 Bedroom|      2800|   5|      2|380.0|  4|\n",
            "+--------------------+---------+----------+----+-------+-----+---+\n",
            "only showing top 20 rows\n",
            "\n"
          ]
        }
      ],
      "source": [
        "df = df.withColumn(\"BHK\", expr(\"int(split(size, ' ')[0])\"))\n",
        "df.show()"
      ]
    },
    {
      "cell_type": "code",
      "execution_count": null,
      "metadata": {
        "colab": {
          "base_uri": "https://localhost:8080/"
        },
        "id": "FFMBMjUJ7GRW",
        "outputId": "107b2148-078b-4962-cfb9-b13c3d7688ab"
      },
      "outputs": [
        {
          "name": "stdout",
          "output_type": "stream",
          "text": [
            "+-----------+\n",
            "| total_sqft|\n",
            "+-----------+\n",
            "|       1436|\n",
            "|       1090|\n",
            "|        675|\n",
            "|       1512|\n",
            "|       3606|\n",
            "|        296|\n",
            "|        829|\n",
            "|       1159|\n",
            "|       2162|\n",
            "|1160 - 1315|\n",
            "|       3210|\n",
            "|        691|\n",
            "|       2088|\n",
            "|        800|\n",
            "|        451|\n",
            "|       1372|\n",
            "|        944|\n",
            "|       2275|\n",
            "|       1394|\n",
            "|     3405.1|\n",
            "+-----------+\n",
            "only showing top 20 rows\n",
            "\n"
          ]
        }
      ],
      "source": [
        "df.select(\"total_sqft\").distinct().show()"
      ]
    },
    {
      "cell_type": "markdown",
      "metadata": {
        "id": "KklHuwW3tvtD"
      },
      "source": [
        "Check data type of total_sqft feature"
      ]
    },
    {
      "cell_type": "code",
      "execution_count": null,
      "metadata": {
        "colab": {
          "base_uri": "https://localhost:8080/"
        },
        "id": "2E0Bynzr__af",
        "outputId": "97a42e75-0bf2-49cc-f988-c209015d981f"
      },
      "outputs": [
        {
          "name": "stdout",
          "output_type": "stream",
          "text": [
            "+--------------------+---------+--------------+----+-------+------+---+\n",
            "|            location|     size|    total_sqft|bath|balcony| price|BHK|\n",
            "+--------------------+---------+--------------+----+-------+------+---+\n",
            "|           Yelahanka|    4 BHK|   2100 - 2850|   4|      0| 186.0|  4|\n",
            "|              Hebbal|    4 BHK|   3067 - 8156|   4|      0| 477.0|  4|\n",
            "|  8th Phase JP Nagar|    2 BHK|   1042 - 1105|   2|      0|54.005|  2|\n",
            "|            Sarjapur|    2 BHK|   1145 - 1340|   2|      0| 43.49|  2|\n",
            "|            KR Puram|    2 BHK|   1015 - 1540|   2|      0|  56.8|  2|\n",
            "|             Kengeri|    1 BHK|34.46Sq. Meter|   1|      0|  18.5|  1|\n",
            "|         Hennur Road|    2 BHK|   1195 - 1440|   2|      0| 63.77|  2|\n",
            "|           Yelahanka|    2 BHK|   1120 - 1145|   2|      0| 48.13|  2|\n",
            "|        Bettahalsoor|4 Bedroom|   3090 - 5002|   4|      0| 445.0|  4|\n",
            "|Banashankari Stag...|    2 BHK|   1160 - 1195|   2|      0|59.935|  2|\n",
            "+--------------------+---------+--------------+----+-------+------+---+\n",
            "only showing top 10 rows\n",
            "\n"
          ]
        }
      ],
      "source": [
        "def is_float(x):\n",
        "    try:\n",
        "        float(x)\n",
        "    except:\n",
        "        return False\n",
        "    return True\n",
        "\n",
        "is_float_udf = udf(is_float, BooleanType())\n",
        "invalid_sqft = df.filter(~is_float_udf(col(\"total_sqft\")))\n",
        "invalid_sqft.show(10)"
      ]
    },
    {
      "cell_type": "markdown",
      "metadata": {
        "id": "QLK-jjvGt9uR"
      },
      "source": [
        "Convert unusual format of data in total_sqft feature"
      ]
    },
    {
      "cell_type": "code",
      "execution_count": null,
      "metadata": {
        "id": "bOEqZZDEvMoi"
      },
      "outputs": [],
      "source": [
        "def convert_sqft(x):\n",
        "    tokens = x.split('-')\n",
        "    if len(tokens) == 2:\n",
        "        return (float(tokens[0]) + float(tokens[1])) / 2\n",
        "    try:\n",
        "        return float(x)\n",
        "    except:\n",
        "        return None\n",
        "\n",
        "convert_sqft_udf = udf(convert_sqft, FloatType())\n",
        "df = df.withColumn(\"total_sqft\", convert_sqft_udf(col(\"total_sqft\")))\n",
        "df = df.filter(col(\"total_sqft\").isNotNull())"
      ]
    },
    {
      "cell_type": "markdown",
      "metadata": {
        "id": "KTMyYuAmuJwu"
      },
      "source": [
        "Add new feature called price per square feet"
      ]
    },
    {
      "cell_type": "code",
      "execution_count": null,
      "metadata": {
        "colab": {
          "base_uri": "https://localhost:8080/"
        },
        "id": "cgv2aUTzvs7r",
        "outputId": "0f2f7d6f-3c18-4f9d-82c8-d12bc4dae78f"
      },
      "outputs": [
        {
          "name": "stdout",
          "output_type": "stream",
          "text": [
            "+--------------------+---------+----------+----+-------+-----+---+------------------+\n",
            "|            location|     size|total_sqft|bath|balcony|price|BHK|    price_per_sqft|\n",
            "+--------------------+---------+----------+----+-------+-----+---+------------------+\n",
            "|Electronic City P...|    2 BHK|    1056.0|   2|      1|39.07|  2| 3699.810606060606|\n",
            "|    Chikka Tirupathi|4 Bedroom|    2600.0|   5|      3|120.0|  4| 4615.384615384615|\n",
            "|         Uttarahalli|    3 BHK|    1440.0|   2|      3| 62.0|  3| 4305.555555555556|\n",
            "|  Lingadheeranahalli|    3 BHK|    1521.0|   3|      1| 95.0|  3| 6245.890861275477|\n",
            "|            Kothanur|    2 BHK|    1200.0|   2|      1| 51.0|  2|            4250.0|\n",
            "|          Whitefield|    2 BHK|    1170.0|   2|      1| 38.0|  2| 3247.863247863248|\n",
            "|        Marathahalli|    3 BHK|    1310.0|   3|      1|63.25|  3| 4828.244274809161|\n",
            "|          Whitefield|    3 BHK|    1800.0|   2|      2| 70.0|  3|3888.8888888888887|\n",
            "|          Whitefield|4 Bedroom|    2785.0|   5|      3|295.0|  4| 10592.45960502693|\n",
            "|  7th Phase JP Nagar|    2 BHK|    1000.0|   2|      1| 38.0|  2|            3800.0|\n",
            "|           Gottigere|    2 BHK|    1100.0|   2|      2| 40.0|  2|3636.3636363636365|\n",
            "|            Sarjapur|3 Bedroom|    2250.0|   3|      2|148.0|  3| 6577.777777777777|\n",
            "|         Mysore Road|    2 BHK|    1175.0|   2|      2| 73.5|  2|  6255.31914893617|\n",
            "|       Bisuvanahalli|    3 BHK|    1180.0|   3|      2| 48.0|  3|4067.7966101694915|\n",
            "|Raja Rajeshwari N...|    3 BHK|    1540.0|   3|      3| 60.0|  3| 3896.103896103896|\n",
            "|Ramakrishnappa La...|    3 BHK|    2770.0|   4|      2|290.0|  3|10469.314079422382|\n",
            "|  Manayata Tech Park|    2 BHK|    1100.0|   2|      2| 48.0|  2| 4363.636363636364|\n",
            "|             Kengeri|    1 BHK|     600.0|   1|      1| 15.0|  1|            2500.0|\n",
            "|          Binny Pete|    3 BHK|    1755.0|   3|      1|122.0|  3|6951.5669515669515|\n",
            "|         Thanisandra|4 Bedroom|    2800.0|   5|      2|380.0|  4| 13571.42857142857|\n",
            "+--------------------+---------+----------+----+-------+-----+---+------------------+\n",
            "only showing top 20 rows\n",
            "\n"
          ]
        }
      ],
      "source": [
        "df = df.withColumn(\"price_per_sqft\", (col(\"price\") * 100000) / col(\"total_sqft\"))\n",
        "df.show()"
      ]
    },
    {
      "cell_type": "markdown",
      "metadata": {
        "id": "c0BdWONTuW_a"
      },
      "source": [
        "Remove outliers based on price_per_sqft"
      ]
    },
    {
      "cell_type": "code",
      "execution_count": null,
      "metadata": {
        "id": "6s9DLKxjISBw"
      },
      "outputs": [],
      "source": [
        "window_spec = Window.partitionBy(\"location\")\n",
        "df = df.withColumn(\"mean\", F.mean(\"price_per_sqft\").over(window_spec))\n",
        "df = df.withColumn(\"stddev\", F.stddev(\"price_per_sqft\").over(window_spec))\n",
        "df = df.filter((col(\"price_per_sqft\") > (col(\"mean\") - col(\"stddev\"))) & (col(\"price_per_sqft\") <= (col(\"mean\") + col(\"stddev\"))))\n",
        "df = df.drop(\"mean\", \"stddev\")\n"
      ]
    },
    {
      "cell_type": "markdown",
      "metadata": {
        "id": "9_1YEv3PuvdB"
      },
      "source": [
        "Generate a scatter plot comparing the relationship between total square feet area and price for properties with 2 BHK and 3 BHK configurations in a specific location."
      ]
    },
    {
      "cell_type": "code",
      "execution_count": null,
      "metadata": {
        "id": "nF_TaohIIv5y"
      },
      "outputs": [],
      "source": [
        "def plot_scatter_chart(df, location):\n",
        "    bhk2 = df.filter((col(\"location\") == location) & (col(\"BHK\") == 2))\n",
        "    bhk3 = df.filter((col(\"location\") == location) & (col(\"BHK\") == 3))\n",
        "    plt.scatter(bhk2.select(\"total_sqft\").collect(), bhk2.select(\"price\").collect(), label='2 BHK')\n",
        "    plt.scatter(bhk3.select(\"total_sqft\").collect(), bhk3.select(\"price\").collect(), label='3 BHK')\n",
        "    plt.legend()\n",
        "    plt.xlabel(\"Total Square Feet Area\")\n",
        "    plt.ylabel(\"Price\")\n",
        "    plt.show()\n"
      ]
    },
    {
      "cell_type": "markdown",
      "metadata": {
        "id": "Tf-UOrA_uyRj"
      },
      "source": [
        "For Rajaji Nagar location"
      ]
    },
    {
      "cell_type": "code",
      "execution_count": null,
      "metadata": {
        "colab": {
          "base_uri": "https://localhost:8080/",
          "height": 449
        },
        "id": "afs3jLIFIydn",
        "outputId": "e91d4aff-53de-4335-970d-9dbcd165bd20"
      },
      "outputs": [
        {
          "data": {
            "image/png": "[encoded data removed]",
            "text/plain": [
              "<Figure size 640x480 with 1 Axes>"
            ]
          },
          "metadata": {},
          "output_type": "display_data"
        }
      ],
      "source": [
        "plot_scatter_chart(df, \"Rajaji Nagar\")"
      ]
    },
    {
      "cell_type": "markdown",
      "metadata": {
        "id": "kmlUp77iu9cH"
      },
      "source": [
        "Remove outliers in BHK column"
      ]
    },
    {
      "cell_type": "code",
      "execution_count": null,
      "metadata": {
        "id": "1ifbujYcIqnU"
      },
      "outputs": [],
      "source": [
        "def remove_bhk_outliers(df):\n",
        "    stats = df.groupBy(\"location\", \"BHK\").agg(\n",
        "        mean(\"price_per_sqft\").alias(\"mean_pps\"),\n",
        "        stddev(\"price_per_sqft\").alias(\"std_pps\"),\n",
        "        count(\"price_per_sqft\").alias(\"count\")\n",
        "    )\n",
        "\n",
        "    df_with_stats = df.join(stats, on=[\"location\", \"BHK\"], how=\"left\")\n",
        "\n",
        "    df_cleaned = df_with_stats.filter(\n",
        "        (col(\"price_per_sqft\") >= col(\"mean_pps\") - col(\"std_pps\")) &\n",
        "        (col(\"price_per_sqft\") <= col(\"mean_pps\") + col(\"std_pps\"))\n",
        "    )\n",
        "\n",
        "    return df_cleaned.drop(\"mean_pps\", \"std_pps\", \"count\")\n",
        "\n",
        "df = remove_bhk_outliers(df)\n"
      ]
    },
    {
      "cell_type": "markdown",
      "metadata": {
        "id": "QpRMJ5BJvBDk"
      },
      "source": [
        "Scatter plot after removing outliers"
      ]
    },
    {
      "cell_type": "code",
      "execution_count": null,
      "metadata": {
        "colab": {
          "base_uri": "https://localhost:8080/",
          "height": 449
        },
        "id": "WhWY40n7IzBp",
        "outputId": "bff31664-d80f-48d7-dee4-452b144e42ed"
      },
      "outputs": [
        {
          "data": {
            "image/png": "[encoded data removed]",
            "text/plain": [
              "<Figure size 640x480 with 1 Axes>"
            ]
          },
          "metadata": {},
          "output_type": "display_data"
        }
      ],
      "source": [
        "plot_scatter_chart(df, \"Rajaji Nagar\")"
      ]
    },
    {
      "cell_type": "markdown",
      "metadata": {
        "id": "eeb64IZsv-ER"
      },
      "source": [
        "Process location feature\n"
      ]
    },
    {
      "cell_type": "code",
      "execution_count": null,
      "metadata": {
        "colab": {
          "base_uri": "https://localhost:8080/"
        },
        "id": "GSzc3OH39FNC",
        "outputId": "131db8c0-55fb-4600-d610-0565243370d6"
      },
      "outputs": [
        {
          "name": "stdout",
          "output_type": "stream",
          "text": [
            "Unique locations count: 601\n"
          ]
        }
      ],
      "source": [
        "unique_locations_count = df.select(\"location\").distinct().count()\n",
        "print(f\"Unique locations count: {unique_locations_count}\")"
      ]
    },
    {
      "cell_type": "code",
      "execution_count": null,
      "metadata": {
        "id": "exevDX069Hry"
      },
      "outputs": [],
      "source": [
        "df = df.withColumn(\"location\", F.trim(F.col(\"location\")))"
      ]
    },
    {
      "cell_type": "code",
      "execution_count": null,
      "metadata": {
        "colab": {
          "base_uri": "https://localhost:8080/"
        },
        "id": "MCfODp4R9NC3",
        "outputId": "b29f14b4-7df5-47fe-adb9-26566c02c7f1"
      },
      "outputs": [
        {
          "name": "stdout",
          "output_type": "stream",
          "text": [
            "+--------------------+-----+\n",
            "|            location|count|\n",
            "+--------------------+-----+\n",
            "|          Whitefield|  371|\n",
            "|      Sarjapur  Road|  194|\n",
            "|     Electronic City|  151|\n",
            "|         Uttarahalli|  148|\n",
            "|      Kanakpura Road|  128|\n",
            "|           Yelahanka|  114|\n",
            "|Raja Rajeshwari N...|  113|\n",
            "|         Thanisandra|   95|\n",
            "|        Marathahalli|   95|\n",
            "|Electronic City P...|   91|\n",
            "|              Hebbal|   88|\n",
            "|        Haralur Road|   86|\n",
            "|   Bannerghatta Road|   82|\n",
            "|         Hennur Road|   78|\n",
            "|  7th Phase JP Nagar|   70|\n",
            "|          Chandapura|   65|\n",
            "|          Begur Road|   57|\n",
            "|        Yeshwanthpur|   54|\n",
            "|            KR Puram|   49|\n",
            "|            Sarjapur|   49|\n",
            "+--------------------+-----+\n",
            "only showing top 20 rows\n",
            "\n"
          ]
        }
      ],
      "source": [
        "location_stats = df.groupBy(\"location\").agg(F.count(\"location\").alias(\"count\")) \\\n",
        "    .orderBy(F.desc(\"count\"))\n",
        "location_stats.show()"
      ]
    },
    {
      "cell_type": "code",
      "execution_count": null,
      "metadata": {
        "colab": {
          "base_uri": "https://localhost:8080/"
        },
        "id": "KUvmhNvP9R4e",
        "outputId": "f47be6c5-9283-42ee-e2e9-e3728aff167e"
      },
      "outputs": [
        {
          "name": "stdout",
          "output_type": "stream",
          "text": [
            "+--------------------+\n",
            "|            location|\n",
            "+--------------------+\n",
            "|          Anjanapura|\n",
            "| Devarachikkanahalli|\n",
            "|        Sonnenahalli|\n",
            "|           Ardendale|\n",
            "|          Rayasandra|\n",
            "|          BTM Layout|\n",
            "|       Kasturi Nagar|\n",
            "|  6th Phase JP Nagar|\n",
            "|               Begur|\n",
            "|    Kereguddadahalli|\n",
            "|         OMBR Layout|\n",
            "|      Yelachenahalli|\n",
            "|          Binny Pete|\n",
            "|       Kenchenahalli|\n",
            "|            Nagavara|\n",
            "|       Murugeshpalya|\n",
            "|         Mallasandra|\n",
            "|  Basaveshwara Nagar|\n",
            "|         Kaggalipura|\n",
            "|Banashankari Stage V|\n",
            "+--------------------+\n",
            "only showing top 20 rows\n",
            "\n"
          ]
        }
      ],
      "source": [
        "minor_locations = location_stats.filter(F.col(\"count\") <= 10).select(\"location\")\n",
        "minor_locations_list = [row[\"location\"] for row in minor_locations.collect()]\n",
        "minor_locations.show()"
      ]
    },
    {
      "cell_type": "code",
      "execution_count": null,
      "metadata": {
        "colab": {
          "base_uri": "https://localhost:8080/"
        },
        "id": "0NP9sRZn9YhW",
        "outputId": "f4ce311d-2bc2-4d1d-c40d-767f1ac1a6a1"
      },
      "outputs": [
        {
          "name": "stdout",
          "output_type": "stream",
          "text": [
            "Updated unique locations count: 149\n"
          ]
        }
      ],
      "source": [
        "df = df.withColumn(\"location\", F.when(F.col(\"location\").isin(minor_locations_list), \"other\").otherwise(F.col(\"location\")))\n",
        "\n",
        "updated_unique_locations_count = df.select(\"location\").distinct().count()\n",
        "print(f\"Updated unique locations count: {updated_unique_locations_count}\")"
      ]
    },
    {
      "cell_type": "code",
      "execution_count": null,
      "metadata": {
        "id": "h7mKlh7MEeOc"
      },
      "outputs": [],
      "source": [
        "df = df.filter(F.col(\"location\") != \"other\")"
      ]
    },
    {
      "cell_type": "markdown",
      "metadata": {
        "id": "c5AtuD9vwgFU"
      },
      "source": [
        "Process before training"
      ]
    },
    {
      "cell_type": "code",
      "execution_count": null,
      "metadata": {
        "colab": {
          "base_uri": "https://localhost:8080/"
        },
        "id": "praZuRzg9fT6",
        "outputId": "bf85ce83-4726-4a37-c3aa-aaaa5b18a599"
      },
      "outputs": [
        {
          "name": "stdout",
          "output_type": "stream",
          "text": [
            "+---+----------+----+-------+-----+-----------------+\n",
            "|BHK|total_sqft|bath|balcony|price|     location_vec|\n",
            "+---+----------+----+-------+-----+-----------------+\n",
            "|  1|     435.0|   1|      1| 19.5|  (147,[2],[1.0])|\n",
            "|  1|     550.0|   1|      1| 27.0|  (147,[2],[1.0])|\n",
            "|  1|     440.0|   1|      0| 28.0| (147,[37],[1.0])|\n",
            "|  1|     412.5|   1|      0| 19.8| (147,[37],[1.0])|\n",
            "|  1|     510.0|   1|      0|25.25|  (147,[8],[1.0])|\n",
            "|  1|     510.0|   1|      1|25.25|  (147,[8],[1.0])|\n",
            "|  4|    2825.0|   4|      3|250.0|(147,[140],[1.0])|\n",
            "|  3|    1875.0|   3|      1|167.0|(147,[140],[1.0])|\n",
            "|  3|    2065.0|   4|      1|210.0|(147,[140],[1.0])|\n",
            "|  2|    1394.0|   2|      1|100.0|(147,[140],[1.0])|\n",
            "|  2|    1077.0|   2|      2| 93.0|(147,[140],[1.0])|\n",
            "|  3|    2180.0|   3|      2|210.0|(147,[140],[1.0])|\n",
            "|  2|    1180.0|   2|      2| 88.5|(147,[140],[1.0])|\n",
            "|  3|    2077.0|   3|      3|175.0|(147,[140],[1.0])|\n",
            "|  2|    1205.0|   2|      1| 85.0|(147,[140],[1.0])|\n",
            "|  4|    2615.0|   5|      3|222.0|(147,[140],[1.0])|\n",
            "|  2|     900.0|   2|      1| 75.0|(147,[140],[1.0])|\n",
            "|  4|    1500.0|   4|      2|220.0|(147,[109],[1.0])|\n",
            "|  6|    3000.0|   8|      3|451.0|(147,[109],[1.0])|\n",
            "|  4|    1350.0|   4|      1|200.0|(147,[109],[1.0])|\n",
            "+---+----------+----+-------+-----+-----------------+\n",
            "only showing top 20 rows\n",
            "\n"
          ]
        }
      ],
      "source": [
        "df = df.drop(\"size\", \"price_per_sqft\")\n",
        "\n",
        "indexer = StringIndexer(inputCol=\"location\", outputCol=\"location_index\")\n",
        "encoder = OneHotEncoder(inputCol=\"location_index\", outputCol=\"location_vec\")\n",
        "\n",
        "df = indexer.fit(df).transform(df)\n",
        "\n",
        "df = encoder.fit(df).transform(df).drop(\"location\", \"location_index\")\n",
        "\n",
        "df.show()"
      ]
    },
    {
      "cell_type": "markdown",
      "metadata": {
        "id": "9iFWcNI9w3GV"
      },
      "source": [
        "Filter out unrealistic data points by ensuring that the total square feet per BHK (bedroom) is at least 300 square feet"
      ]
    },
    {
      "cell_type": "code",
      "execution_count": null,
      "metadata": {
        "id": "XbI4nMBMvyTQ"
      },
      "outputs": [],
      "source": [
        "df = df.filter((col(\"total_sqft\") / col(\"BHK\")) >= 300)"
      ]
    },
    {
      "cell_type": "markdown",
      "metadata": {
        "id": "qKxowPM5hRRi"
      },
      "source": [
        "Filter out data points where the number of bathrooms exceeds the number of bedrooms (BHK) by 2 or more"
      ]
    },
    {
      "cell_type": "code",
      "execution_count": null,
      "metadata": {
        "id": "mkxDk1Y2LRHp"
      },
      "outputs": [],
      "source": [
        "df = df.filter(col(\"bath\") < col(\"BHK\") + 2)"
      ]
    },
    {
      "cell_type": "markdown",
      "metadata": {
        "id": "XrwOT5zYRdCo"
      },
      "source": [
        "# 3. Model Development and Evaluation\n",
        "\n",
        "\n"
      ]
    },
    {
      "cell_type": "code",
      "execution_count": null,
      "metadata": {
        "colab": {
          "base_uri": "https://localhost:8080/"
        },
        "id": "ix9tTaS4clKd",
        "outputId": "cf8bc6c3-8ae6-421e-c0c2-a56879a9cd96"
      },
      "outputs": [
        {
          "name": "stdout",
          "output_type": "stream",
          "text": [
            "\n",
            "Linear Regression Predictions:\n",
            "+-----------------------------------------+-----+------------------+\n",
            "|features                                 |price|prediction        |\n",
            "+-----------------------------------------+-----+------------------+\n",
            "|(151,[0,1,2,3],[2.0,1128.0,2.0,2.0])     |75.0 |54.01700714987362 |\n",
            "|(151,[0,1,2,3],[2.0,1200.0,2.0,2.0])     |80.0 |59.48825938605026 |\n",
            "|(151,[0,1,2,3],[2.0,1330.0,2.0,1.0])     |75.0 |70.61379104214642 |\n",
            "|(151,[0,1,2,3,4],[1.0,605.0,1.0,1.0,1.0])|40.0 |25.714649087231663|\n",
            "|(151,[0,1,2,3,4],[1.0,840.0,1.0,1.0,1.0])|57.6 |43.57220846919705 |\n",
            "+-----------------------------------------+-----+------------------+\n",
            "only showing top 5 rows\n",
            "\n",
            "\n",
            "Decision Tree Predictions:\n",
            "+-----------------------------------------+-----+------------------+\n",
            "|features                                 |price|prediction        |\n",
            "+-----------------------------------------+-----+------------------+\n",
            "|(151,[0,1,2,3],[2.0,1128.0,2.0,2.0])     |75.0 |49.647654494382074|\n",
            "|(151,[0,1,2,3],[2.0,1200.0,2.0,2.0])     |80.0 |61.82806101344363 |\n",
            "|(151,[0,1,2,3],[2.0,1330.0,2.0,1.0])     |75.0 |61.82806101344363 |\n",
            "|(151,[0,1,2,3,4],[1.0,605.0,1.0,1.0,1.0])|40.0 |24.98290983606558 |\n",
            "|(151,[0,1,2,3,4],[1.0,840.0,1.0,1.0,1.0])|57.6 |49.647654494382074|\n",
            "+-----------------------------------------+-----+------------------+\n",
            "only showing top 5 rows\n",
            "\n",
            "\n",
            "Random Forest Predictions:\n",
            "+-----------------------------------------+-----+------------------+\n",
            "|features                                 |price|prediction        |\n",
            "+-----------------------------------------+-----+------------------+\n",
            "|(151,[0,1,2,3],[2.0,1128.0,2.0,2.0])     |75.0 |53.656494162275145|\n",
            "|(151,[0,1,2,3],[2.0,1200.0,2.0,2.0])     |80.0 |58.31774977810379 |\n",
            "|(151,[0,1,2,3],[2.0,1330.0,2.0,1.0])     |75.0 |61.88202313824289 |\n",
            "|(151,[0,1,2,3,4],[1.0,605.0,1.0,1.0,1.0])|40.0 |41.2093874611433  |\n",
            "|(151,[0,1,2,3,4],[1.0,840.0,1.0,1.0,1.0])|57.6 |49.17328119375228 |\n",
            "+-----------------------------------------+-----+------------------+\n",
            "only showing top 5 rows\n",
            "\n",
            "\n",
            "Gradient-Boosted Trees Predictions:\n",
            "+-----------------------------------------+-----+------------------+\n",
            "|features                                 |price|prediction        |\n",
            "+-----------------------------------------+-----+------------------+\n",
            "|(151,[0,1,2,3],[2.0,1128.0,2.0,2.0])     |75.0 |48.706659419734514|\n",
            "|(151,[0,1,2,3],[2.0,1200.0,2.0,2.0])     |80.0 |60.88706593879607 |\n",
            "|(151,[0,1,2,3],[2.0,1330.0,2.0,1.0])     |75.0 |60.88706593879607 |\n",
            "|(151,[0,1,2,3,4],[1.0,605.0,1.0,1.0,1.0])|40.0 |24.04191476141802 |\n",
            "|(151,[0,1,2,3,4],[1.0,840.0,1.0,1.0,1.0])|57.6 |48.706659419734514|\n",
            "+-----------------------------------------+-----+------------------+\n",
            "only showing top 5 rows\n",
            "\n",
            "\n",
            "Model Performance Comparison:\n",
            "{'Model': 'Linear Regression', 'RMSE': 18.385136485699974, 'MSE': 338.01324359781637, 'MAE': 10.286065869028677, 'R-squared': 0.8817637709745041}\n",
            "{'Model': 'Decision Tree', 'RMSE': 26.753717101065757, 'MSE': 715.7613787238583, 'MAE': 15.330318146121387, 'R-squared': 0.749628371357265}\n",
            "{'Model': 'Random Forest', 'RMSE': 26.073477645680484, 'MSE': 679.8262365398, 'MAE': 16.002379555094613, 'R-squared': 0.7621983986618566}\n",
            "{'Model': 'Gradient-Boosted Trees', 'RMSE': 22.596848829680834, 'MSE': 510.61757703144804, 'MAE': 12.940398209118644, 'R-squared': 0.821387185485048}\n"
          ]
        }
      ],
      "source": [
        "from pyspark.ml.feature import VectorAssembler\n",
        "from pyspark.ml.regression import LinearRegression, DecisionTreeRegressor, RandomForestRegressor, GBTRegressor\n",
        "from pyspark.ml.evaluation import RegressionEvaluator\n",
        "\n",
        "# 1. Prepare the data for training and testing\n",
        "# Combine features into a single vector column\n",
        "data_assembler = VectorAssembler(inputCols=[\"BHK\", \"total_sqft\", \"bath\", \"balcony\", \"location_vec\"], outputCol=\"features\")\n",
        "data = data_assembler.transform(df)\n",
        "final_data = data.select(\"features\", \"price\")\n",
        "\n",
        "# Split the data into training (80%) and testing (20%) sets\n",
        "train_data, test_data = final_data.randomSplit([0.8, 0.2], seed=42)\n",
        "\n",
        "# 2. Initialize models\n",
        "models = {\n",
        "    \"Linear Regression\": LinearRegression(featuresCol=\"features\", labelCol=\"price\", maxIter=50, regParam=0.3, elasticNetParam=0.8),\n",
        "    \"Decision Tree\": DecisionTreeRegressor(featuresCol=\"features\", labelCol=\"price\"),\n",
        "    \"Random Forest\": RandomForestRegressor(featuresCol=\"features\", labelCol=\"price\"),\n",
        "    \"Gradient-Boosted Trees\": GBTRegressor(featuresCol=\"features\", labelCol=\"price\")\n",
        "}\n",
        "trained_models = {}\n",
        "\n",
        "# 3. Train and evaluate models\n",
        "results = []\n",
        "evaluator = RegressionEvaluator(labelCol=\"price\", predictionCol=\"prediction\")\n",
        "\n",
        "for model_name, model in models.items():\n",
        "    # Train the model\n",
        "    trained_model = model.fit(train_data)\n",
        "    trained_models[model_name] = trained_model\n",
        "\n",
        "    # Make predictions on the test set\n",
        "    predictions = trained_model.transform(test_data)\n",
        "\n",
        "    # Evaluate metrics\n",
        "    rmse = evaluator.setMetricName(\"rmse\").evaluate(predictions)\n",
        "    mse = evaluator.setMetricName(\"mse\").evaluate(predictions)\n",
        "    mae = evaluator.setMetricName(\"mae\").evaluate(predictions)\n",
        "    r2 = evaluator.setMetricName(\"r2\").evaluate(predictions)\n",
        "\n",
        "    # Store the results\n",
        "    results.append({\n",
        "        \"Model\": model_name,\n",
        "        \"RMSE\": rmse,\n",
        "        \"MSE\": mse,\n",
        "        \"MAE\": mae,\n",
        "        \"R-squared\": r2\n",
        "    })\n",
        "\n",
        "    # Print predictions for a quick check\n",
        "    print(f\"\\n{model_name} Predictions:\")\n",
        "    predictions.select(\"features\", \"price\", \"prediction\").show(5, truncate=False)\n",
        "\n",
        "# 4. Compare results\n",
        "print(\"\\nModel Performance Comparison:\")\n",
        "for result in results:\n",
        "    print(result)\n"
      ]
    },
    {
      "cell_type": "markdown",
      "metadata": {
        "id": "WEH4aIZRmWrU"
      },
      "source": [
        "# 6. Performance Optimization"
      ]
    },
    {
      "cell_type": "code",
      "execution_count": null,
      "metadata": {
        "id": "mMGjnCdFjve4"
      },
      "outputs": [],
      "source": [
        "def evaluate_model(model, test_data):\n",
        "  # Make predictions on the test set\n",
        "  predictions = model.transform(test_data)\n",
        "\n",
        "  # Evaluate metrics\n",
        "  # Create a RegressionEvaluator\n",
        "  evaluator = RegressionEvaluator(labelCol=\"price\", predictionCol=\"prediction\")\n",
        "\n",
        "  # Calculate metrics\n",
        "  rmse = evaluator.evaluate(predictions, {evaluator.metricName: \"rmse\"})\n",
        "  mse = evaluator.evaluate(predictions, {evaluator.metricName: \"mse\"})\n",
        "  mae = evaluator.evaluate(predictions, {evaluator.metricName: \"mae\"})\n",
        "  r2 = evaluator.evaluate(predictions, {evaluator.metricName: \"r2\"})\n",
        "\n",
        "  # Print the metrics\n",
        "  print(\"Model Evaluation Metrics:\")\n",
        "  print(\"Root Mean Squared Error (RMSE):\", rmse)\n",
        "  print(\"Mean Squared Error (MSE):\", mse)\n",
        "  print(\"Mean Absolute Error (MAE):\", mae)\n",
        "  print(\"R-squared:\", r2)"
      ]
    },
    {
      "cell_type": "markdown",
      "metadata": {
        "id": "YlUMyrKfmsPx"
      },
      "source": [
        "Linear Regression"
      ]
    },
    {
      "cell_type": "code",
      "execution_count": null,
      "metadata": {
        "colab": {
          "base_uri": "https://localhost:8080/"
        },
        "id": "cDlEmb2MmWU_",
        "outputId": "ad07460d-f539-499c-9a7c-ec844048f641"
      },
      "outputs": [
        {
          "name": "stdout",
          "output_type": "stream",
          "text": [
            "Linear Regression Best Parameters: {'regParam': 0.1, 'elasticNetParam': 0.5, 'maxIter': 50}\n",
            "Best RMSE: 18.192388222410965\n"
          ]
        }
      ],
      "source": [
        "from pyspark.ml.regression import LinearRegression\n",
        "from pyspark.ml.evaluation import RegressionEvaluator\n",
        "import random\n",
        "\n",
        "# Define parameter ranges\n",
        "param_ranges = {\n",
        "    \"regParam\": [0.01, 0.1, 0.3, 0.5],\n",
        "    \"elasticNetParam\": [0.0, 0.5, 1.0],\n",
        "    \"maxIter\": [50, 100, 200]\n",
        "}\n",
        "\n",
        "# Generate random parameter samples\n",
        "n_samples = 5\n",
        "random_params = [{param: random.choice(values) for param, values in param_ranges.items()} for _ in range(n_samples)]\n",
        "\n",
        "# Initialize evaluator\n",
        "evaluator = RegressionEvaluator(labelCol=\"price\", predictionCol=\"prediction\", metricName=\"rmse\")\n",
        "\n",
        "# Perform random search\n",
        "best_model = None\n",
        "best_rmse = float(\"inf\")\n",
        "best_params = None\n",
        "\n",
        "for params in random_params:\n",
        "    # Create a new LinearRegression model with the sampled parameters\n",
        "    lr = LinearRegression(\n",
        "        featuresCol=\"features\",\n",
        "        labelCol=\"price\",\n",
        "        regParam=params[\"regParam\"],\n",
        "        elasticNetParam=params[\"elasticNetParam\"],\n",
        "        maxIter=params[\"maxIter\"]\n",
        "    )\n",
        "\n",
        "    # Train the model\n",
        "    model = lr.fit(train_data)\n",
        "    predictions = model.transform(test_data)\n",
        "\n",
        "    # Evaluate the model\n",
        "    rmse = evaluator.evaluate(predictions)\n",
        "\n",
        "    if rmse < best_rmse:\n",
        "        best_rmse = rmse\n",
        "        best_model = model\n",
        "        best_params = params\n",
        "\n",
        "# Display the best parameters and results\n",
        "print(f\"Linear Regression Best Parameters: {best_params}\")\n",
        "print(f\"Best RMSE: {best_rmse}\")"
      ]
    },
    {
      "cell_type": "markdown",
      "metadata": {
        "id": "pfOQD6jamwx0"
      },
      "source": [
        "Decision Tree"
      ]
    },
    {
      "cell_type": "code",
      "execution_count": null,
      "metadata": {
        "colab": {
          "base_uri": "https://localhost:8080/"
        },
        "id": "GXuCWQykmwYZ",
        "outputId": "e5052593-392f-4eee-c694-adc765579e9c"
      },
      "outputs": [
        {
          "name": "stdout",
          "output_type": "stream",
          "text": [
            "Decision Tree Best Parameters: {'maxDepth': 15, 'minInstancesPerNode': 1}\n",
            "Best RMSE: 23.53218297364502\n"
          ]
        }
      ],
      "source": [
        "from pyspark.ml.regression import DecisionTreeRegressor\n",
        "\n",
        "# Define parameter ranges\n",
        "param_ranges = {\n",
        "    \"maxDepth\": [5, 10, 15],\n",
        "    \"minInstancesPerNode\": [1, 5, 10]\n",
        "}\n",
        "\n",
        "# Perform random search\n",
        "best_model = None\n",
        "best_rmse = float(\"inf\")\n",
        "best_params = None\n",
        "\n",
        "for _ in range(n_samples):\n",
        "    # Sample random parameters\n",
        "    params = {param: random.choice(values) for param, values in param_ranges.items()}\n",
        "\n",
        "    # Create a new DecisionTreeRegressor model with the sampled parameters\n",
        "    dt = DecisionTreeRegressor(\n",
        "        featuresCol=\"features\",\n",
        "        labelCol=\"price\",\n",
        "        maxDepth=params[\"maxDepth\"],\n",
        "        minInstancesPerNode=params[\"minInstancesPerNode\"]\n",
        "    )\n",
        "\n",
        "    # Train the model\n",
        "    model = dt.fit(train_data)\n",
        "    predictions = model.transform(test_data)\n",
        "\n",
        "    # Evaluate the model\n",
        "    rmse = evaluator.evaluate(predictions)\n",
        "\n",
        "    if rmse < best_rmse:\n",
        "        best_rmse = rmse\n",
        "        best_model = model\n",
        "        best_params = params\n",
        "\n",
        "# Display the best parameters and results\n",
        "print(f\"Decision Tree Best Parameters: {best_params}\")\n",
        "print(f\"Best RMSE: {best_rmse}\")"
      ]
    },
    {
      "cell_type": "markdown",
      "metadata": {
        "id": "ztTpXcWCm0uN"
      },
      "source": [
        "Random Forest\n"
      ]
    },
    {
      "cell_type": "code",
      "execution_count": null,
      "metadata": {
        "colab": {
          "base_uri": "https://localhost:8080/"
        },
        "id": "7YXAZ40em7F7",
        "outputId": "d54c45e0-c1c2-43ec-a9df-56226b5c2ef3"
      },
      "outputs": [
        {
          "name": "stdout",
          "output_type": "stream",
          "text": [
            "Random Forest Best Parameters: {'numTrees': 100, 'maxDepth': 15}\n",
            "Best RMSE: 21.21140833251626\n"
          ]
        }
      ],
      "source": [
        "from pyspark.ml.regression import RandomForestRegressor\n",
        "\n",
        "# Define parameter ranges\n",
        "param_ranges = {\n",
        "    \"numTrees\": [20, 50, 100],\n",
        "    \"maxDepth\": [5, 10, 15]\n",
        "}\n",
        "\n",
        "# Perform random search\n",
        "best_model = None\n",
        "best_rmse = float(\"inf\")\n",
        "best_params = None\n",
        "\n",
        "for _ in range(n_samples):\n",
        "    # Sample random parameters\n",
        "    params = {param: random.choice(values) for param, values in param_ranges.items()}\n",
        "\n",
        "    # Create a new RandomForestRegressor model with the sampled parameters\n",
        "    rf = RandomForestRegressor(\n",
        "        featuresCol=\"features\",\n",
        "        labelCol=\"price\",\n",
        "        numTrees=params[\"numTrees\"],\n",
        "        maxDepth=params[\"maxDepth\"]\n",
        "    )\n",
        "\n",
        "    # Train the model\n",
        "    model = rf.fit(train_data)\n",
        "    predictions = model.transform(test_data)\n",
        "\n",
        "    # Evaluate the model\n",
        "    rmse = evaluator.evaluate(predictions)\n",
        "\n",
        "    if rmse < best_rmse:\n",
        "        best_rmse = rmse\n",
        "        best_model = model\n",
        "        best_params = params\n",
        "\n",
        "# Display the best parameters and results\n",
        "print(f\"Random Forest Best Parameters: {best_params}\")\n",
        "print(f\"Best RMSE: {best_rmse}\")"
      ]
    },
    {
      "cell_type": "markdown",
      "metadata": {
        "id": "ss5b6mJsm8dL"
      },
      "source": [
        "Gradient - Boosted tree"
      ]
    },
    {
      "cell_type": "code",
      "execution_count": null,
      "metadata": {
        "colab": {
          "base_uri": "https://localhost:8080/"
        },
        "id": "zXBl8QkUm76b",
        "outputId": "ab7ddc2f-bac2-4188-c4c9-c3562412e2a0"
      },
      "outputs": [
        {
          "name": "stdout",
          "output_type": "stream",
          "text": [
            "Gradient-Boosted Trees Best Parameters: {'maxIter': 30, 'maxDepth': 10}\n",
            "Best RMSE: 20.66449802171988\n"
          ]
        }
      ],
      "source": [
        "from pyspark.ml.regression import GBTRegressor\n",
        "\n",
        "# Define parameter ranges\n",
        "param_ranges = {\n",
        "    \"maxIter\": [10, 20, 30],\n",
        "    \"maxDepth\": [5, 10, 15]\n",
        "}\n",
        "\n",
        "# Perform random search\n",
        "best_model = None\n",
        "best_rmse = float(\"inf\")\n",
        "best_params = None\n",
        "\n",
        "for _ in range(n_samples):\n",
        "    # Sample random parameters\n",
        "    params = {param: random.choice(values) for param, values in param_ranges.items()}\n",
        "\n",
        "    # Create a new GBTRegressor model with the sampled parameters\n",
        "    gbt = GBTRegressor(\n",
        "        featuresCol=\"features\",\n",
        "        labelCol=\"price\",\n",
        "        maxIter=params[\"maxIter\"],\n",
        "        maxDepth=params[\"maxDepth\"]\n",
        "    )\n",
        "\n",
        "    # Train the model\n",
        "    model = gbt.fit(train_data)\n",
        "    predictions = model.transform(test_data)\n",
        "\n",
        "    # Evaluate the model\n",
        "    rmse = evaluator.evaluate(predictions)\n",
        "\n",
        "    if rmse < best_rmse:\n",
        "        best_rmse = rmse\n",
        "        best_model = model\n",
        "        best_params = params\n",
        "\n",
        "# Display the best parameters and results\n",
        "print(f\"Gradient-Boosted Trees Best Parameters: {best_params}\")\n",
        "print(f\"Best RMSE: {best_rmse}\")"
      ]
    },
    {
      "cell_type": "markdown",
      "metadata": {
        "id": "kssGUHfLcErP"
      },
      "source": [
        "# 5. Model Interpretation\n"
      ]
    },
    {
      "cell_type": "markdown",
      "metadata": {
        "id": "Y5m7oYmL1l95"
      },
      "source": [
        "### Linear Regression"
      ]
    },
    {
      "cell_type": "code",
      "execution_count": null,
      "metadata": {
        "id": "N4QA2zAB4XNZ"
      },
      "outputs": [],
      "source": [
        "from pyspark.ml.tuning import CrossValidator, ParamGridBuilder\n",
        "\n",
        "# Linear Regression Model\n",
        "lr = LinearRegression(featuresCol=\"features\", labelCol=\"price\")\n",
        "\n",
        "# Parameter Grid\n",
        "paramGrid = ParamGridBuilder() \\\n",
        "    .addGrid(lr.maxIter, [10, 50, 100]) \\\n",
        "    .addGrid(lr.regParam, [0.0, 0.1, 0.3]) \\\n",
        "    .addGrid(lr.elasticNetParam, [0.0, 0.5, 1.0]) \\\n",
        "    .build()\n",
        "\n",
        "# Cross-Validation\n",
        "evaluator = RegressionEvaluator(labelCol=\"price\", predictionCol=\"prediction\", metricName=\"rmse\")\n",
        "\n",
        "lr_cv = CrossValidator(estimator=lr,\n",
        "                    estimatorParamMaps=paramGrid,\n",
        "                    evaluator=evaluator,\n",
        "                    numFolds=2)  # 2-fold cross-validation\n",
        "\n",
        "cvModel = lr_cv.fit(train_data)"
      ]
    },
    {
      "cell_type": "code",
      "execution_count": null,
      "metadata": {
        "colab": {
          "base_uri": "https://localhost:8080/"
        },
        "id": "vVUA4aej5y1t",
        "outputId": "7ce04f27-5918-4521-b08c-83e36022ab97"
      },
      "outputs": [
        {
          "name": "stdout",
          "output_type": "stream",
          "text": [
            "Coefficients:  [-4.257555345489827,0.0764112801426211,3.7445535281985567,-1.384423098796171,10.837835161775473,3.9577297774130282,-2.8873731633232564,-10.838814983417349,-0.23930463179102518,-4.118741023065459,-15.521773339211043,0.0,6.5004662188512,-19.743539626720278,24.73419259041376,-8.76437726634589,-4.0611399756333855,7.005369322905231,19.19511071268663,-13.706089709007903,-17.22837287371144,8.398704210376529,-10.180577965911027,-14.618583211790536,4.268942042679466,0.8756436195264531,0.0,180.17922550314094,-1.2173615306384833,0.0,8.64970655360623,-2.0847690201742086,-7.598966630138696,-4.18550073056724,2.5733450725736704,1.6533823705683732,16.213812622586982,-2.9212403894696206,6.048359391049867,-11.350600584255503,0.7043174963956154,0.0,-2.6034277492860074,-10.54497743182591,62.71860745913357,22.273022363042948,-5.746273236126066,-8.921495035365808,-4.0874598940161695,7.915451963375957,4.784920712924866,3.870997425072148,26.38892796310191,0.0,-4.8890625311183795,3.811919517013403,-4.032746305112414,-8.027757331475811,2.5775221823710615,121.21364562637052,-1.95706329243535,14.099287500976628,-2.0448929540515315,7.3530499969462735,6.6318725261690465,-13.049468349153422,-10.676383869222958,1.5114393678788245,2.206075248637792,-10.437545665679645,0.0,-8.00499513809525,-5.554480992733791,14.519498331508903,3.812305365396419,12.299416547530988,9.225076987027247,-1.8562971443114837,11.304087918333902,79.13131516816938,-2.3658661429518357,15.617524883446855,9.44968790565979,-8.773414489398494,-1.9841985495060948,10.496204730061946,8.200031042934636,-1.586937192008455,-10.951614731272434,-16.513278772096022,-1.0845323051121778,-3.933490379476929,15.197295738013498,-1.0635831038521482,-4.695126359971428,0.0,7.933969402196185,4.180367520171124,0.0,-17.33050341103723,-11.589828269101407,-9.181820302213223,11.859695303749941,62.19931022054899,74.61360078281885,14.486587316895099,-1.5767750855476321,3.6228475087595946,-4.3331410052626325,24.232881053852736,2.493621593000035,-8.586297953955171,20.049346389190635,142.88986387071205,0.0,26.724689924529223,-13.8750356248079,-12.740868042573336,66.23996224171303,86.47386699475514,-3.398537449035193,-17.91515253831589,9.950238800849577,0.0,-9.366034182516845,-18.74691158337005,-0.7980088576551743,38.882404011744065,-10.714096754795014,-2.090041302843057,-6.048496030425672,-10.147228277776968,-22.090486622311765,8.2402262016843,-1.1422343706990257,-4.123115107913844,19.056076597987666,49.958038116581164,4.981821523160232,0.5562000101987564,-1.5666998576826143,10.762359636702966,0.0,32.35350716122257,47.04061135005425,7.493463243084856,133.66614950660062,1.8168479027724909,-7.739832702736246,-21.640072295453667,-7.716751969013378]\n",
            "Intercept:  -28.228625420387388\n"
          ]
        }
      ],
      "source": [
        "# Model Interpretation\n",
        "bestModel = cvModel.bestModel\n",
        "coefficients = bestModel.coefficients\n",
        "intercept = bestModel.intercept\n",
        "\n",
        "print(\"Coefficients: \", coefficients)\n",
        "print(\"Intercept: \", intercept)"
      ]
    },
    {
      "cell_type": "code",
      "execution_count": null,
      "metadata": {
        "colab": {
          "base_uri": "https://localhost:8080/"
        },
        "id": "za8Fs8xYJXIO",
        "outputId": "f4884d2c-e2a1-4726-aeb4-3a4fb1e9cd59"
      },
      "outputs": [
        {
          "name": "stdout",
          "output_type": "stream",
          "text": [
            "RMSE: 21.076925\n",
            "r2: 0.883737\n"
          ]
        }
      ],
      "source": [
        "trainingSummary = bestModel.summary\n",
        "print(\"RMSE: %f\" % trainingSummary.rootMeanSquaredError)\n",
        "print(\"r2: %f\" % trainingSummary.r2)"
      ]
    },
    {
      "cell_type": "code",
      "execution_count": null,
      "metadata": {
        "colab": {
          "base_uri": "https://localhost:8080/"
        },
        "id": "zQEeQpaGC2zu",
        "outputId": "916b67ee-f448-4c17-c57a-54167808bd18"
      },
      "outputs": [
        {
          "name": "stdout",
          "output_type": "stream",
          "text": [
            "+-------+-----------------+\n",
            "|summary|            price|\n",
            "+-------+-----------------+\n",
            "|  count|             3930|\n",
            "|   mean|80.56175445292594|\n",
            "| stddev|61.82177079613275|\n",
            "|    min|             10.0|\n",
            "|    max|            700.0|\n",
            "+-------+-----------------+\n",
            "\n"
          ]
        }
      ],
      "source": [
        "train_data.describe().show()"
      ]
    },
    {
      "cell_type": "markdown",
      "metadata": {
        "id": "qY0XeAaiHzRS"
      },
      "source": [
        "* RMSE measures the differences between predicted values by the model and the actual values. However, RMSE alone is meaningless until we compare with the actual \"price\" value, such as mean, min and max. After such comparison, our RMSE looks pretty good.\n",
        "\n",
        "* Since the RMSE of $21.2$ represents about $26.3\\%$ of the mean, it indicates that the model is reasonably accurate in its predictions, especially in contexts where variability is expected.\n",
        "\n",
        "* R squared at 0.88 indicates that in our model, approximate 88% of the variability in \"price\" can be explained using the model. This is not bad."
      ]
    },
    {
      "cell_type": "code",
      "execution_count": null,
      "metadata": {
        "colab": {
          "base_uri": "https://localhost:8080/"
        },
        "id": "so0h5FVTV_3u",
        "outputId": "ec53b066-e0c8-4218-9305-7589a24f287d"
      },
      "outputs": [
        {
          "name": "stdout",
          "output_type": "stream",
          "text": [
            "+---+----------+----+-------+-----+-----------------+--------------------+\n",
            "|BHK|total_sqft|bath|balcony|price|     location_vec|            features|\n",
            "+---+----------+----+-------+-----+-----------------+--------------------+\n",
            "|  1|     435.0|   1|      1| 19.5|  (147,[2],[1.0])|(151,[0,1,2,3,6],...|\n",
            "|  1|     550.0|   1|      1| 27.0|  (147,[2],[1.0])|(151,[0,1,2,3,6],...|\n",
            "|  1|     440.0|   1|      0| 28.0| (147,[37],[1.0])|(151,[0,1,2,41],[...|\n",
            "|  1|     412.5|   1|      0| 19.8| (147,[37],[1.0])|(151,[0,1,2,41],[...|\n",
            "|  1|     510.0|   1|      0|25.25|  (147,[8],[1.0])|(151,[0,1,2,12],[...|\n",
            "|  1|     510.0|   1|      1|25.25|  (147,[8],[1.0])|(151,[0,1,2,3,12]...|\n",
            "|  4|    2825.0|   4|      3|250.0|(147,[140],[1.0])|(151,[0,1,2,3,144...|\n",
            "|  3|    1875.0|   3|      1|167.0|(147,[140],[1.0])|(151,[0,1,2,3,144...|\n",
            "|  3|    2065.0|   4|      1|210.0|(147,[140],[1.0])|(151,[0,1,2,3,144...|\n",
            "|  2|    1394.0|   2|      1|100.0|(147,[140],[1.0])|(151,[0,1,2,3,144...|\n",
            "|  2|    1077.0|   2|      2| 93.0|(147,[140],[1.0])|(151,[0,1,2,3,144...|\n",
            "|  3|    2180.0|   3|      2|210.0|(147,[140],[1.0])|(151,[0,1,2,3,144...|\n",
            "|  2|    1180.0|   2|      2| 88.5|(147,[140],[1.0])|(151,[0,1,2,3,144...|\n",
            "|  3|    2077.0|   3|      3|175.0|(147,[140],[1.0])|(151,[0,1,2,3,144...|\n",
            "|  2|    1205.0|   2|      1| 85.0|(147,[140],[1.0])|(151,[0,1,2,3,144...|\n",
            "|  4|    2615.0|   5|      3|222.0|(147,[140],[1.0])|(151,[0,1,2,3,144...|\n",
            "|  2|     900.0|   2|      1| 75.0|(147,[140],[1.0])|(151,[0,1,2,3,144...|\n",
            "|  4|    1500.0|   4|      2|220.0|(147,[109],[1.0])|(151,[0,1,2,3,113...|\n",
            "|  4|    1350.0|   4|      1|200.0|(147,[109],[1.0])|(151,[0,1,2,3,113...|\n",
            "|  4|    1200.0|   4|      1|225.0|(147,[109],[1.0])|(151,[0,1,2,3,113...|\n",
            "+---+----------+----+-------+-----+-----------------+--------------------+\n",
            "only showing top 20 rows\n",
            "\n"
          ]
        }
      ],
      "source": [
        "data.show()"
      ]
    },
    {
      "cell_type": "code",
      "execution_count": null,
      "metadata": {
        "colab": {
          "base_uri": "https://localhost:8080/"
        },
        "id": "Qmao45_JAAPm",
        "outputId": "955df214-88dc-45c8-9eca-80334a84b693"
      },
      "outputs": [
        {
          "name": "stdout",
          "output_type": "stream",
          "text": [
            "Feature Importance:\n",
            "  location_vec: 10.838\n",
            "  BHK: 4.258\n",
            "  bath: 3.745\n",
            "  balcony: 1.384\n",
            "  total_sqft: 0.076\n"
          ]
        }
      ],
      "source": [
        "feature_importance = sorted(list(zip(data.drop(\"price\", \"features\").columns, map(abs, coefficients))), key=lambda x: x[1], reverse=True)\n",
        "\n",
        "print(\"Feature Importance:\")\n",
        "for feature, importance in feature_importance:\n",
        "    print(\"  {}: {:.3f}\".format(feature, importance))"
      ]
    },
    {
      "cell_type": "code",
      "execution_count": null,
      "metadata": {
        "id": "WxPhyEX3dKrQ"
      },
      "outputs": [],
      "source": [
        "bestModel.save(\"/content/drive/MyDrive/Colab Notebooks/Scalable & Distributed Computing/Project/LR\")"
      ]
    },
    {
      "cell_type": "code",
      "execution_count": null,
      "metadata": {
        "colab": {
          "base_uri": "https://localhost:8080/"
        },
        "id": "OmyJM2dGkSbc",
        "outputId": "ff76adb6-2ec9-4ae8-b96f-8128fd77c897"
      },
      "outputs": [
        {
          "name": "stdout",
          "output_type": "stream",
          "text": [
            "Model Evaluation Metrics:\n",
            "Root Mean Squared Error (RMSE): 18.212896889138904\n",
            "Mean Squared Error (MSE): 331.70961309440554\n",
            "Mean Absolute Error (MAE): 10.076351029908635\n",
            "R-squared: 0.883968765938489\n"
          ]
        }
      ],
      "source": [
        "evaluate_model(bestModel, test_data)"
      ]
    },
    {
      "cell_type": "markdown",
      "metadata": {
        "id": "9tyqHAgdcoCI"
      },
      "source": [
        "### Decision Tree Regression"
      ]
    },
    {
      "cell_type": "code",
      "execution_count": null,
      "metadata": {
        "colab": {
          "base_uri": "https://localhost:8080/"
        },
        "id": "oMkQNeIQeIEv",
        "outputId": "c02b2a11-d58e-4248-a0a3-c565a6c9b9eb"
      },
      "outputs": [
        {
          "name": "stdout",
          "output_type": "stream",
          "text": [
            "Mounted at /content/drive\n"
          ]
        }
      ],
      "source": [
        "from google.colab import drive\n",
        "drive.mount('/content/drive')"
      ]
    },
    {
      "cell_type": "code",
      "execution_count": null,
      "metadata": {
        "id": "h4U6Dnc9Yq2z"
      },
      "outputs": [],
      "source": [
        "# Decision Tree Regressor\n",
        "dt = DecisionTreeRegressor(featuresCol=\"features\", labelCol=\"price\")\n",
        "\n",
        "# Parameter Grid\n",
        "paramGrid = ParamGridBuilder() \\\n",
        "    .addGrid(dt.maxDepth, [2, 5]) \\\n",
        "    .addGrid(dt.minInstancesPerNode, [1, 2]) \\\n",
        "    .addGrid(dt.maxBins, [16]) \\\n",
        "    .build()\n",
        "\n",
        "# Cross-Validation\n",
        "evaluator = RegressionEvaluator(labelCol=\"price\", predictionCol=\"prediction\", metricName=\"rmse\")\n",
        "\n",
        "dt_cv = CrossValidator(estimator=dt,\n",
        "                    estimatorParamMaps=paramGrid,\n",
        "                    evaluator=evaluator,\n",
        "                    numFolds=2)  # 2-fold cross-validation\n",
        "\n",
        "cvModel = dt_cv.fit(train_data)"
      ]
    },
    {
      "cell_type": "code",
      "execution_count": null,
      "metadata": {
        "colab": {
          "base_uri": "https://localhost:8080/"
        },
        "id": "pe6lk2zDmdXK",
        "outputId": "d3fa8dbf-f933-44ec-a3ba-23b2f35e43ed"
      },
      "outputs": [
        {
          "name": "stdout",
          "output_type": "stream",
          "text": [
            "Feature Importances:\n",
            "\tBHK: 0.03180481036605197\n",
            "\ttotal_sqft: 0.8461261411069382\n",
            "\tbath: 0.008869465084251835\n",
            "\tbalcony: 3.405286568514633e-05\n",
            "\tlocation_vec: 0.02429266613741181\n"
          ]
        }
      ],
      "source": [
        "best_model = cvModel.bestModel\n",
        "\n",
        "feature_importances = best_model.featureImportances\n",
        "feature_names = data.drop(\"price\", \"features\").columns\n",
        "\n",
        "print(\"Feature Importances:\")\n",
        "for feature, importance in zip(feature_names, feature_importances):\n",
        "    print(f\"\\t{feature}: {importance}\")"
      ]
    },
    {
      "cell_type": "code",
      "execution_count": null,
      "metadata": {
        "id": "CUorsm7hvIa0"
      },
      "outputs": [],
      "source": [
        "best_model.save(\"/content/drive/MyDrive/Colab Notebooks/Scalable & Distributed Computing/Project/DTR\")"
      ]
    },
    {
      "cell_type": "code",
      "execution_count": null,
      "metadata": {
        "colab": {
          "base_uri": "https://localhost:8080/"
        },
        "id": "mtHpm9vDAp2i",
        "outputId": "f47a498d-188a-447b-de84-189f128b8948"
      },
      "outputs": [
        {
          "name": "stdout",
          "output_type": "stream",
          "text": [
            "Model Evaluation Metrics:\n",
            "Root Mean Squared Error (RMSE): 28.57428724939395\n",
            "Mean Squared Error (MSE): 816.4898918108778\n",
            "Mean Absolute Error (MAE): 16.194545861915273\n",
            "R-squared: 0.7143937769491084\n"
          ]
        }
      ],
      "source": [
        "evaluate_model(best_model, test_data)"
      ]
    },
    {
      "cell_type": "markdown",
      "metadata": {
        "id": "mzBU9FItER4O"
      },
      "source": [
        "### Random Forest Regression"
      ]
    },
    {
      "cell_type": "code",
      "execution_count": null,
      "metadata": {
        "id": "ZOQK5qNfBio_"
      },
      "outputs": [],
      "source": [
        "# Random Forest Model\n",
        "rf = RandomForestRegressor(featuresCol=\"features\", labelCol=\"price\")\n",
        "\n",
        "# Parameter Grid\n",
        "paramGrid = ParamGridBuilder() \\\n",
        "    .addGrid(rf.numTrees, [5, 10]) \\\n",
        "    .addGrid(rf.maxDepth, [3, 5]) \\\n",
        "    .addGrid(rf.minInstancesPerNode, [1, 2]) \\\n",
        "    .addGrid(rf.maxBins, [16]) \\\n",
        "    .build()\n",
        "\n",
        "# Cross-Validation\n",
        "evaluator = RegressionEvaluator(labelCol=\"price\", predictionCol=\"prediction\", metricName=\"rmse\")\n",
        "\n",
        "rf_cv = CrossValidator(estimator=rf,\n",
        "                          estimatorParamMaps=paramGrid,\n",
        "                          evaluator=evaluator,\n",
        "                          numFolds=2)\n",
        "\n",
        "cvModel = rf_cv.fit(train_data)"
      ]
    },
    {
      "cell_type": "code",
      "execution_count": null,
      "metadata": {
        "colab": {
          "base_uri": "https://localhost:8080/"
        },
        "id": "1NPFuNx_FjKG",
        "outputId": "26b3ffc3-6175-4d66-e754-11b8f96eb305"
      },
      "outputs": [
        {
          "name": "stdout",
          "output_type": "stream",
          "text": [
            "Feature Importances:\n",
            "\tBHK: 0.05496151340174775\n",
            "\ttotal_sqft: 0.6354095350690507\n",
            "\tbath: 0.1792122365019562\n",
            "\tbalcony: 0.021613627225728797\n",
            "\tlocation_vec: 0.022860115997690767\n"
          ]
        }
      ],
      "source": [
        "best_model = cvModel.bestModel\n",
        "\n",
        "feature_importances = best_model.featureImportances\n",
        "feature_names = data.drop(\"price\", \"features\").columns\n",
        "\n",
        "print(\"Feature Importances:\")\n",
        "for feature, importance in zip(feature_names, feature_importances):\n",
        "    print(f\"\\t{feature}: {importance}\")"
      ]
    },
    {
      "cell_type": "code",
      "execution_count": null,
      "metadata": {
        "id": "IfTQCeUcKIUO"
      },
      "outputs": [],
      "source": [
        "best_model.save(\"/content/drive/MyDrive/Colab Notebooks/Scalable & Distributed Computing/Project/RFR\")"
      ]
    },
    {
      "cell_type": "code",
      "execution_count": null,
      "metadata": {
        "colab": {
          "base_uri": "https://localhost:8080/"
        },
        "id": "mZHCkpEtKKy9",
        "outputId": "64dcde27-d32e-400c-8828-978df432f425"
      },
      "outputs": [
        {
          "name": "stdout",
          "output_type": "stream",
          "text": [
            "Model Evaluation Metrics:\n",
            "Root Mean Squared Error (RMSE): 27.781290579711403\n",
            "Mean Squared Error (MSE): 771.8001062743615\n",
            "Mean Absolute Error (MAE): 16.518222958496896\n",
            "R-squared: 0.7300261576852991\n"
          ]
        }
      ],
      "source": [
        "evaluate_model(best_model, test_data)"
      ]
    },
    {
      "cell_type": "markdown",
      "metadata": {
        "id": "D1wcI3zwOw5X"
      },
      "source": [
        "### Gradient-Boosted Trees Regression"
      ]
    },
    {
      "cell_type": "code",
      "execution_count": null,
      "metadata": {
        "id": "bD2a_qSyO1J3"
      },
      "outputs": [],
      "source": [
        "# GBT Model\n",
        "gbt = GBTRegressor(featuresCol=\"features\", labelCol=\"price\")\n",
        "\n",
        "# Parameter Grid\n",
        "paramGrid = ParamGridBuilder() \\\n",
        "    .addGrid(gbt.maxIter, [10, 20])\\\n",
        "    .addGrid(gbt.maxDepth, [3, 5]) \\\n",
        "    .addGrid(gbt.minInstancesPerNode, [1]) \\\n",
        "    .addGrid(gbt.stepSize, [0.01, 0.1]) \\\n",
        "    .build()\n",
        "\n",
        "# Cross-Validation\n",
        "evaluator = RegressionEvaluator(labelCol=\"price\", predictionCol=\"prediction\", metricName=\"rmse\")\n",
        "\n",
        "gbt_cv = CrossValidator(estimator=gbt,\n",
        "                          estimatorParamMaps=paramGrid,\n",
        "                          evaluator=evaluator,\n",
        "                          numFolds=2)\n",
        "\n",
        "cvModel = gbt_cv.fit(train_data)"
      ]
    },
    {
      "cell_type": "code",
      "execution_count": null,
      "metadata": {
        "colab": {
          "base_uri": "https://localhost:8080/"
        },
        "id": "0uZTLTQnQaIB",
        "outputId": "342d6919-e2a3-4698-ba18-c11699568039"
      },
      "outputs": [
        {
          "name": "stdout",
          "output_type": "stream",
          "text": [
            "Feature Importances:\n",
            "\tBHK: 0.04623750637433625\n",
            "\ttotal_sqft: 0.5446281738423614\n",
            "\tbath: 0.027491018306691744\n",
            "\tbalcony: 0.004739571627988223\n",
            "\tlocation_vec: 0.011104054516431879\n"
          ]
        }
      ],
      "source": [
        "best_model = cvModel.bestModel\n",
        "\n",
        "feature_importances = best_model.featureImportances\n",
        "feature_names = data.drop(\"price\", \"features\").columns\n",
        "\n",
        "print(\"Feature Importances:\")\n",
        "for feature, importance in zip(feature_names, feature_importances):\n",
        "    print(f\"\\t{feature}: {importance}\")"
      ]
    },
    {
      "cell_type": "code",
      "execution_count": null,
      "metadata": {
        "id": "XNfuDnEmQfyA"
      },
      "outputs": [],
      "source": [
        "best_model.save(\"/content/drive/MyDrive/Colab Notebooks/Scalable & Distributed Computing/Project/GBTR\")"
      ]
    },
    {
      "cell_type": "code",
      "execution_count": null,
      "metadata": {
        "colab": {
          "base_uri": "https://localhost:8080/"
        },
        "id": "w1k1ZToDQlES",
        "outputId": "faa1e4b3-49df-49a6-c4db-6bcb8cc60f3b"
      },
      "outputs": [
        {
          "name": "stdout",
          "output_type": "stream",
          "text": [
            "Model Evaluation Metrics:\n",
            "Root Mean Squared Error (RMSE): 22.596848829680834\n",
            "Mean Squared Error (MSE): 510.61757703144804\n",
            "Mean Absolute Error (MAE): 12.940398209118644\n",
            "R-squared: 0.821387185485048\n"
          ]
        }
      ],
      "source": [
        "evaluate_model(best_model, test_data)"
      ]
    }
  ],
  "metadata": {
    "colab": {
      "provenance": []
    },
    "kernelspec": {
      "display_name": "Python 3",
      "name": "python3"
    },
    "language_info": {
      "name": "python",
      "version": "3.11.9"
    }
  },
  "nbformat": 4,
  "nbformat_minor": 0
}
